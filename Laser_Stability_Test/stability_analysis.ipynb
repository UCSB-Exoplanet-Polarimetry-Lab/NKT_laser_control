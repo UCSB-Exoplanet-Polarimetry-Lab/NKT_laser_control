{
 "cells": [
  {
   "cell_type": "code",
   "execution_count": 5,
   "metadata": {},
   "outputs": [],
   "source": [
    "import numpy as np\n",
    "import matplotlib.pyplot as plt\n",
    "from astropy.io import fits\n",
    "import os"
   ]
  },
  {
   "cell_type": "code",
   "execution_count": 2,
   "metadata": {},
   "outputs": [],
   "source": [
    "def extract_intensities(reduced_filename, reduced_folder, lcenter, rcenter, maxradius, cutoff=5000):\n",
    "    I_left = np.array([])\n",
    "    I_right = np.array([])\n",
    "    bad_indices = np.array([])\n",
    "    times = np.linspace(0, 90, 270)\n",
    "\n",
    "    for filename in sorted(os.listdir(reduced_folder), key = extract_number):\n",
    "        if filename.startswith(reduced_filename):\n",
    "            with fits.open(os.path.join(reduced_folder, filename)) as hdul:\n",
    "                reduced_img_data = hdul[0].data\n",
    "                ys, xs, = np.indices(reduced_img_data.shape)\n",
    "                lradius = np.sqrt((ys-lcenter[0])**2+(xs-lcenter[1])**2)\n",
    "                rradius = np.sqrt((ys-rcenter[0])**2+(xs-rcenter[1])**2)\n",
    "\n",
    "                lbackground_mask = (lradius > 20) & (lradius < 26)\n",
    "                rbackground_mask = (rradius > 20) & (rradius < 26)   # Index the background around each spot, take the median value\n",
    "\n",
    "                background_lmedian = np.median(reduced_img_data[lbackground_mask])\n",
    "                background_rmedian = np.median(reduced_img_data[rbackground_mask])\n",
    "\n",
    "                lflux = np.sum(reduced_img_data[lradius < maxradius] - background_lmedian)   # Now take the flux with the background mask subtracted\n",
    "                rflux = np.sum(reduced_img_data[rradius < maxradius] - background_rmedian)\n",
    "                I_left = np.append(I_left, lflux)\n",
    "                I_right = np.append(I_right, rflux)\n",
    "\n",
    "                if lflux+rflux < cutoff:\n",
    "                    print(\"Warning: low flux detected, check the image \" + filename + \", index: \" + str(sorted(os.listdir(reduced_folder), key = extract_number).index(filename)))\n",
    "                    bad_indices = np.append(bad_indices, sorted(os.listdir(reduced_folder), key = extract_number).index(filename))\n",
    "                else:\n",
    "                    continue \n",
    "\n",
    "    # Makes the array a list of integers that can be used to index the other array\n",
    "    bad_indices = bad_indices.astype(int)\n",
    "    # Deletes the bad indices (caused by camera glitch or some other complication) from the data\n",
    "    I_left = np.delete(I_left, bad_indices)\n",
    "    I_right = np.delete(I_right, bad_indices)\n",
    "    new_times = np.delete(times, bad_indices)\n",
    "\n",
    "    return I_left, I_right, new_times, bad_indices"
   ]
  },
  {
   "cell_type": "code",
   "execution_count": null,
   "metadata": {},
   "outputs": [],
   "source": [
    "reduced_filename = 'Reduced_SuperK_'\n",
    "reduced_folder = \"/home/shared/exoserver/Lab_Data/Mueller_Matrix_Polarimeter/SuperK_Intensity/Reduced_SuperK_Intensity/First_Attempt_Reduced/\"\n",
    "lcenter = [316, 247]\n",
    "rcenter = [316, 324]\n",
    "maxradius = 20\n",
    "cutoff = 500\n",
    "\n",
    "extracted_data = extract_intensities(reduced_filename, reduced_folder, lcenter, rcenter, maxradius, cutoff)\n",
    "Il = extracted_data[0]\n",
    "Ir = extracted_data[1]\n",
    "times = extracted_data[2]\n",
    "\n",
    "I = (Il+Ir)"
   ]
  },
  {
   "cell_type": "code",
   "execution_count": null,
   "metadata": {},
   "outputs": [],
   "source": [
    "plt.ylabel('Intensity (counts)', fontsize=12, fontweight='bold')\n",
    "plt.xlabel('Time (minutes)', fontsize=12, fontweight='bold')\n",
    "plt.plot(times, I, marker='o', linestyle='-', label=\"SuperK Laser Intensity\")\n",
    "plt.legend()\n",
    "\n",
    "folder_path = \"/home/shared/exoserver/Lab_Data/Mueller_Matrix_Polarimeter/SuperK_Intensity\"\n",
    "file_name = 'SuperK_Laser_Stability.png'\n",
    "#plt.savefig(folder_path + file_name, bbox_inches='tight', dpi=300)"
   ]
  }
 ],
 "metadata": {
  "kernelspec": {
   "display_name": "First_Light_SDK",
   "language": "python",
   "name": "python3"
  },
  "language_info": {
   "codemirror_mode": {
    "name": "ipython",
    "version": 3
   },
   "file_extension": ".py",
   "mimetype": "text/x-python",
   "name": "python",
   "nbconvert_exporter": "python",
   "pygments_lexer": "ipython3",
   "version": "3.10.11"
  }
 },
 "nbformat": 4,
 "nbformat_minor": 2
}
