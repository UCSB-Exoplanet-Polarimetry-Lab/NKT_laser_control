{
 "cells": [
  {
   "cell_type": "markdown",
   "metadata": {},
   "source": [
    "Testing SuperK SELECT control via Python. We are using NKT Photonics SuperK Compact laser with SELECT tunable filter. Laser is on COM3."
   ]
  },
  {
   "cell_type": "markdown",
   "metadata": {},
   "source": [
    "On Rayleigh, SDK documents can be found under Users/Public/Public Documents/NKT Photonics\n",
    "\n",
    "SuperK Compact info is on page 59 of the user manual."
   ]
  },
  {
   "cell_type": "markdown",
   "metadata": {},
   "source": [
    "Python interface doesn't work while Control software is connected."
   ]
  },
  {
   "cell_type": "markdown",
   "metadata": {},
   "source": [
    "Notes for Compact registers: \n",
    "\n",
    "- The module type number is 74h. The standard module address is 1 (01h).\n",
    "- Emission on/off – the value 0 turns emission off, and 1 turns it on (if interlock circuit\n",
    "has been reset). The format is an 8-bit unsigned integer \n",
    "- Trig mode set with 31h\n",
    "- Register 0x30 is emission. 1 for on, 0 for off. \n",
    "- Interlock register is 32h. A value greater than 1 will reset the interlock circuit if the key is in the \"On\" position. Sending 0 will disable the interlock. \n",
    "- Internal pulse frequency (repetition rate) is 33h. The value is in Hz. Minimum value is 1, maximum is system dependent\n",
    "- Internal pulse frequency limit readout with 36h. \n",
    "- Power level 3Eh. Setpoint value in %. Values input here are automatically converted to repetition rates which overwrites the value in 33h register. Integer value between 0 and 100\n",
    "- Status bits at 66h\n",
    "- Readout display text with 78h. \n"
   ]
  },
  {
   "cell_type": "markdown",
   "metadata": {},
   "source": [
    "Register Notes for SuperK SELECT: (page 56 of)\n",
    " - module is 67h. Should be at address 16\n",
    " - crystal 1 covers VIS/NIR wavelengths, crystal 2 covers NIR/IR"
   ]
  },
  {
   "cell_type": "code",
   "execution_count": 3,
   "metadata": {},
   "outputs": [
    {
     "ename": "ImportError",
     "evalue": "attempted relative import with no known parent package",
     "output_type": "error",
     "traceback": [
      "\u001b[1;31m---------------------------------------------------------------------------\u001b[0m",
      "\u001b[1;31mImportError\u001b[0m                               Traceback (most recent call last)",
      "Cell \u001b[1;32mIn[3], line 1\u001b[0m\n\u001b[1;32m----> 1\u001b[0m \u001b[38;5;28;01mfrom\u001b[39;00m \u001b[38;5;21;01m.\u001b[39;00m\u001b[38;5;21;01mNKTP_DLL\u001b[39;00m \u001b[38;5;28;01mimport\u001b[39;00m \u001b[38;5;241m*\u001b[39m\n\u001b[0;32m      2\u001b[0m \u001b[38;5;28;01mfrom\u001b[39;00m \u001b[38;5;21;01m.\u001b[39;00m\u001b[38;5;21;01mcontrols\u001b[39;00m \u001b[38;5;28;01mimport\u001b[39;00m \u001b[38;5;241m*\u001b[39m\n",
      "\u001b[1;31mImportError\u001b[0m: attempted relative import with no known parent package"
     ]
    }
   ],
   "source": [
    "from .NKTP_DLL import *\n",
    "from .controls import *"
   ]
  },
  {
   "cell_type": "code",
   "execution_count": 2,
   "metadata": {},
   "outputs": [
    {
     "data": {
      "text/plain": [
       "'c:\\\\Users\\\\admin1\\\\OneDrive\\\\Documents\\\\GitHub\\\\NKT_laser_control'"
      ]
     },
     "execution_count": 2,
     "metadata": {},
     "output_type": "execute_result"
    }
   ],
   "source": [
    "import os\n",
    "os.getcwd()"
   ]
  },
  {
   "cell_type": "code",
   "execution_count": 6,
   "metadata": {},
   "outputs": [
    {
     "ename": "NameError",
     "evalue": "name 'controls' is not defined",
     "output_type": "error",
     "traceback": [
      "\u001b[1;31m---------------------------------------------------------------------------\u001b[0m",
      "\u001b[1;31mNameError\u001b[0m                                 Traceback (most recent call last)",
      "Cell \u001b[1;32mIn[6], line 1\u001b[0m\n\u001b[1;32m----> 1\u001b[0m controls_dir \u001b[38;5;241m=\u001b[39m os\u001b[38;5;241m.\u001b[39mpath\u001b[38;5;241m.\u001b[39mdirname(os\u001b[38;5;241m.\u001b[39mpath\u001b[38;5;241m.\u001b[39mabspath(controls\u001b[38;5;241m.\u001b[39m\u001b[38;5;18m__file__\u001b[39m))\n\u001b[0;32m      2\u001b[0m \u001b[38;5;28mprint\u001b[39m(\u001b[38;5;124m\"\u001b[39m\u001b[38;5;124mcontrols.py is located in:\u001b[39m\u001b[38;5;124m\"\u001b[39m, controls_dir)\n",
      "\u001b[1;31mNameError\u001b[0m: name 'controls' is not defined"
     ]
    }
   ],
   "source": [
    "controls_dir = os.path.dirname(os.path.abspath(controls.__file__))\n",
    "print(\"controls.py is located in:\", controls_dir)"
   ]
  },
  {
   "cell_type": "code",
   "execution_count": 8,
   "metadata": {},
   "outputs": [
    {
     "ename": "NameError",
     "evalue": "name 'controls' is not defined",
     "output_type": "error",
     "traceback": [
      "\u001b[1;31m---------------------------------------------------------------------------\u001b[0m",
      "\u001b[1;31mNameError\u001b[0m                                 Traceback (most recent call last)",
      "Cell \u001b[1;32mIn[8], line 1\u001b[0m\n\u001b[1;32m----> 1\u001b[0m \u001b[38;5;28mprint\u001b[39m(\u001b[38;5;28mdir\u001b[39m(controls))\n",
      "\u001b[1;31mNameError\u001b[0m: name 'controls' is not defined"
     ]
    }
   ],
   "source": [
    "print(dir(controls))"
   ]
  },
  {
   "cell_type": "code",
   "execution_count": 124,
   "metadata": {},
   "outputs": [],
   "source": [
    "COMport = 'COM3'\n",
    "COMPACT_devID = 1\n",
    "SELECT_devID = 16\n",
    "\n",
    "mode_mapping = {\n",
    "    0: 'Internal frequency generator',\n",
    "    1: 'External trig',\n",
    "    2: 'Software trigged burst',\n",
    "    3: 'Hardware trigged burst',\n",
    "    4: 'External gate on',\n",
    "    5: 'External gate off',\n",
    "}"
   ]
  },
  {
   "cell_type": "markdown",
   "metadata": {},
   "source": [
    "I think the interlock key has to be turned and reset first. Find a way to check interlock status?"
   ]
  },
  {
   "cell_type": "code",
   "execution_count": 53,
   "metadata": {},
   "outputs": [
    {
     "name": "stdout",
     "output_type": "stream",
     "text": [
      "Setting emission ON. 0:RegResultSuccess\n"
     ]
    }
   ],
   "source": [
    "emission_on()"
   ]
  },
  {
   "cell_type": "code",
   "execution_count": 125,
   "metadata": {},
   "outputs": [],
   "source": [
    "def trig_mode(mode=None):\n",
    "    if mode is None:\n",
    "        result = registerReadU32(COMport, COMPACT_devID, 0x31, -1)\n",
    "        status = mode_mapping[result[1]]\n",
    "        print('Laser mode:', status)\n",
    "    else:\n",
    "        result = registerWriteReadU32(COMport, COMPACT_devID, 0x31, mode, -1)\n",
    "        status = mode_mapping[result[1]]\n",
    "        print('Laser mode:', status)"
   ]
  },
  {
   "cell_type": "code",
   "execution_count": 128,
   "metadata": {},
   "outputs": [
    {
     "name": "stdout",
     "output_type": "stream",
     "text": [
      "Laser mode: Internal frequency generator\n"
     ]
    }
   ],
   "source": [
    "trig_mode(0)"
   ]
  },
  {
   "cell_type": "code",
   "execution_count": 63,
   "metadata": {},
   "outputs": [
    {
     "name": "stdout",
     "output_type": "stream",
     "text": [
      "Setting emission OFF. 0:RegResultSuccess\n"
     ]
    }
   ],
   "source": [
    "emission_off()"
   ]
  },
  {
   "cell_type": "code",
   "execution_count": null,
   "metadata": {},
   "outputs": [
    {
     "name": "stdout",
     "output_type": "stream",
     "text": [
      "(0, 4095)\n",
      "Unknown result\n"
     ]
    }
   ],
   "source": [
    "# Monitor 1 readout, not working?\n",
    "result = registerReadU16('COM3', 16, 0x10, -1)\n",
    "print(result)\n",
    "print(RegisterResultTypes(result))"
   ]
  },
  {
   "cell_type": "code",
   "execution_count": null,
   "metadata": {},
   "outputs": [
    {
     "name": "stdout",
     "output_type": "stream",
     "text": [
      "(0, 350)\n",
      "Unknown result\n"
     ]
    }
   ],
   "source": [
    "# Monitor 2 readout, not working?\n",
    "result = registerReadU16('COM3', 17, 0x11, -1)\n",
    "print(result)\n",
    "print(RegisterResultTypes(result))"
   ]
  },
  {
   "cell_type": "code",
   "execution_count": 70,
   "metadata": {},
   "outputs": [
    {
     "name": "stdout",
     "output_type": "stream",
     "text": [
      "(0, 500000)\n",
      "Unknown result\n"
     ]
    }
   ],
   "source": [
    "# crystal 1 minimum wavelength, value in pm\n",
    "result = registerReadU32('COM3', 16, 0x90, -1)\n",
    "print(result)\n",
    "print(RegisterResultTypes(result))"
   ]
  },
  {
   "cell_type": "code",
   "execution_count": null,
   "metadata": {},
   "outputs": [],
   "source": [
    "def interlock_status():\n",
    "    if value==0:\n",
    "        print('Interlock off')\n",
    "    if value"
   ]
  },
  {
   "cell_type": "code",
   "execution_count": null,
   "metadata": {},
   "outputs": [],
   "source": [
    "status_mapping = {\n",
    "    0: \"Device is off.\",\n",
    "    1: \"Device is on.\",\n",
    "    2: \"Device is broken.\"\n",
    "}\n",
    "\n",
    "# Function to check the status based on the mapping\n",
    "def check_device_status(value):\n",
    "    # Use the get method to provide a default message for unknown values\n",
    "    message = status_mapping.get(value, \"Unknown status.\")\n",
    "    print(message)\n",
    "\n",
    "# Example usage\n",
    "status_value = int(input(\"Enter the device status (0: off, 1: on, 2: broken): \"))\n",
    "check_device_status(status_value)"
   ]
  },
  {
   "cell_type": "code",
   "execution_count": null,
   "metadata": {},
   "outputs": [],
   "source": [
    "interlock_mapping = {\n",
    "    0: \"Interlock off (interlock circuit open).\",\n",
    "    1: \"Waiting for interlock reset.\",\n",
    "    3: \"Interlock is OK.\"\n",
    "}\n",
    "\n",
    "def interlock_status(value):\n",
    "    message = interlock_mapping.get(value, \"Unknown interlock status.\")\n",
    "    print(message)"
   ]
  },
  {
   "cell_type": "markdown",
   "metadata": {},
   "source": [
    " 0 Interlock off (interlock circuit open)\n",
    "0 1 Waiting for interlock reset\n",
    "0 2 Interlock is OK\n",
    "1 0 Front panel interlock / key switch off\n",
    "2 0 Door switch open\n",
    "3 0 External module interlock\n",
    "4 0 Interlock power failure\n",
    "255 - Interlock circuit failure"
   ]
  },
  {
   "cell_type": "markdown",
   "metadata": {},
   "source": [
    "\"All wavelength and amplitude settings are sent to the RF Driver, not to the SuperK SELECT\"\n",
    "First channel is controlled with 0x90, second with 0x91, and so on up to 0x97 for the eighth channel. \n",
    "Only use the element on index 0. Can send only one 32 bit integer to change this value. "
   ]
  },
  {
   "cell_type": "code",
   "execution_count": null,
   "metadata": {},
   "outputs": [],
   "source": [
    "COMport = 'COM3' # depends on the port the device is connected to\n",
    "COMPACT_devID = 1 # fixed for the SuperK COMPACT\n",
    "SELECT_devID = 16 # fixed for the SuperK SELECT\n",
    "\n",
    "def crystal_temp():\n",
    "    \"\"\"Read the current crystal temperature in degrees Celsius.\"\"\"\n",
    "    result = registerReadS16(COMport, SELECT_devID, 0x38, -1)\n",
    "    temperature = result[1] # temperature given in 0.1 degrees C\n",
    "    print('Crystal temperature: ', temperature/10, 'degrees C.', RegisterResultTypes(result))"
   ]
  },
  {
   "cell_type": "code",
   "execution_count": null,
   "metadata": {},
   "outputs": [],
   "source": [
    "def set_wavelength(channel, wavelength):\n",
    "    \"\"\"Specify the channel (1-8) and set the wavelength in nm for that channel.\"\"\"\n",
    "    channel = int(channel-1)\n",
    "    address = f\"0x9{channel}\"\n",
    "    result = registerWriteReadU32(COMport, SELECT_devID, address, wavelength*1000, -1)\n",
    "    print('Wavelength set to: ', wavelength/1000, 'nm.', RegisterResultTypes(result))"
   ]
  },
  {
   "cell_type": "code",
   "execution_count": null,
   "metadata": {},
   "outputs": [],
   "source": []
  }
 ],
 "metadata": {
  "kernelspec": {
   "display_name": "base",
   "language": "python",
   "name": "python3"
  },
  "language_info": {
   "codemirror_mode": {
    "name": "ipython",
    "version": 3
   },
   "file_extension": ".py",
   "mimetype": "text/x-python",
   "name": "python",
   "nbconvert_exporter": "python",
   "pygments_lexer": "ipython3",
   "version": "3.12.4"
  }
 },
 "nbformat": 4,
 "nbformat_minor": 2
}
