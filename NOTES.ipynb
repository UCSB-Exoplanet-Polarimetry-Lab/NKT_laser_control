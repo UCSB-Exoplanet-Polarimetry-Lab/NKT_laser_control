{
 "cells": [
  {
   "cell_type": "markdown",
   "metadata": {},
   "source": []
  },
  {
   "cell_type": "markdown",
   "metadata": {},
   "source": [
    "On Rayleigh, SDK documents can be found under Users/Public/Public Documents/NKT Photonics\n",
    "\n",
    "SuperK Compact info is on page 59 of the user manual."
   ]
  },
  {
   "cell_type": "markdown",
   "metadata": {},
   "source": [
    "Notes for Compact registers: \n",
    "\n",
    "- The module type number is 74h. The standard module address is 1 (01h).\n",
    "- Emission on/off – the value 0 turns emission off, and 1 turns it on (if interlock circuit\n",
    "has been reset). The format is an 8-bit unsigned integer \n",
    "- Trig mode set with 31h\n",
    "- Register 0x30 is emission. 1 for on, 0 for off. \n",
    "- Interlock register is 32h. A value greater than 1 will reset the interlock circuit if the key is in the \"On\" position. Sending 0 will disable the interlock. \n",
    "- Internal pulse frequency (repetition rate) is 33h. The value is in Hz. Minimum value is 1, maximum is system dependent\n",
    "- Internal pulse frequency limit readout with 36h. \n",
    "- Power level 3Eh. Setpoint value in %. Values input here are automatically converted to repetition rates which overwrites the value in 33h register. Integer value between 0 and 100\n",
    "- Status bits at 66h\n",
    "- Readout display text with 78h. \n"
   ]
  },
  {
   "cell_type": "markdown",
   "metadata": {},
   "source": [
    "Register Notes for SuperK SELECT: (page 56 of)\n",
    " - module is 67h. Should be at address 16\n",
    " - crystal 1 covers VIS/NIR wavelengths, crystal 2 covers NIR/IR"
   ]
  },
  {
   "cell_type": "code",
   "execution_count": null,
   "metadata": {
    "vscode": {
     "languageId": "plaintext"
    }
   },
   "outputs": [],
   "source": []
  }
 ],
 "metadata": {
  "language_info": {
   "name": "python"
  }
 },
 "nbformat": 4,
 "nbformat_minor": 2
}
