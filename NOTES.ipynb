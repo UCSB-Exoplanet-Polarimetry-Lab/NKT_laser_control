{
 "cells": [
  {
   "cell_type": "markdown",
   "metadata": {},
   "source": [
    "Python interface doesn't work while Control software is also connected. "
   ]
  },
  {
   "cell_type": "markdown",
   "metadata": {},
   "source": [
    "On Rayleigh desktop computer, SDK documents can be found under Users/Public/Public Documents/NKT Photonics <br>\n",
    "The original library of code is in [NKTP_DLL](NKTP_DLL.py)."
   ]
  },
  {
   "cell_type": "markdown",
   "metadata": {},
   "source": [
    "**Page references from the [manual](SDK_Instruction_Manual.pdf).** <br>\n",
    "RF (radio frequency) driver for SuperK SELECT: *page 54* <br>\n",
    "SuperK SELECT: *page 56* <br>\n",
    "SuperK COMPACT: *page 59* <br>"
   ]
  },
  {
   "cell_type": "markdown",
   "metadata": {},
   "source": [
    "Functions are defined for each device class in [controls](controls.py)."
   ]
  }
 ],
 "metadata": {
  "kernelspec": {
   "display_name": "base",
   "language": "python",
   "name": "python3"
  },
  "language_info": {
   "name": "python",
   "version": "3.12.4"
  }
 },
 "nbformat": 4,
 "nbformat_minor": 2
}
