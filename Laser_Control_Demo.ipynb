{
 "cells": [
  {
   "cell_type": "markdown",
   "metadata": {},
   "source": [
    "Testing SuperK SELECT control via Python. We are using NKT Photonics SuperK Compact laser with SELECT tunable filter. Laser is on COM3."
   ]
  },
  {
   "cell_type": "markdown",
   "metadata": {},
   "source": [
    "On Rayleigh, SDK documents can be found under Users/Public/Public Documents/NKT Photonics\n",
    "\n",
    "SuperK Compact info is on page 59 of the user manual."
   ]
  },
  {
   "cell_type": "markdown",
   "metadata": {},
   "source": [
    "Python interface doesn't work while Control software is connected."
   ]
  },
  {
   "cell_type": "code",
   "execution_count": 5,
   "metadata": {},
   "outputs": [
    {
     "name": "stdout",
     "output_type": "stream",
     "text": [
      "Loading x64 DLL from: C:\\Users\\Public\\Documents\\NKT Photonics\\SDK\\NKTPDLL\\x64\\NKTPDLL.dll\n"
     ]
    }
   ],
   "source": [
    "from controls import *"
   ]
  },
  {
   "cell_type": "code",
   "execution_count": 6,
   "metadata": {},
   "outputs": [
    {
     "name": "stdout",
     "output_type": "stream",
     "text": [
      "Following ports has modules: COM3\n",
      "Comport: COM3 Device type: 0x0074 at address: 1\n",
      "Comport: COM3 Device type: 0x0067 at address: 16\n",
      "Comport: COM3 Device type: 0x0066 at address: 17\n",
      "Close result:  0:OPSuccess\n"
     ]
    }
   ],
   "source": [
    "scan_ports()"
   ]
  },
  {
   "cell_type": "code",
   "execution_count": 7,
   "metadata": {},
   "outputs": [
    {
     "name": "stdout",
     "output_type": "stream",
     "text": [
      "Waiting for interlock to reset.\n"
     ]
    }
   ],
   "source": [
    "get_interlock()"
   ]
  },
  {
   "cell_type": "code",
   "execution_count": 8,
   "metadata": {},
   "outputs": [
    {
     "name": "stdout",
     "output_type": "stream",
     "text": [
      "Interlock is OK.\n"
     ]
    }
   ],
   "source": [
    "reset_interlock()"
   ]
  },
  {
   "cell_type": "code",
   "execution_count": 13,
   "metadata": {},
   "outputs": [
    {
     "name": "stdout",
     "output_type": "stream",
     "text": [
      "Laser mode: Internal frequency generator\n"
     ]
    }
   ],
   "source": [
    "trig_mode()"
   ]
  },
  {
   "cell_type": "code",
   "execution_count": 10,
   "metadata": {},
   "outputs": [
    {
     "name": "stdout",
     "output_type": "stream",
     "text": [
      "Setting emission ON. 0:RegResultSuccess\n"
     ]
    }
   ],
   "source": [
    "emission_on()"
   ]
  },
  {
   "cell_type": "code",
   "execution_count": 12,
   "metadata": {},
   "outputs": [
    {
     "name": "stdout",
     "output_type": "stream",
     "text": [
      "Setting overall power level to 20%.\n"
     ]
    }
   ],
   "source": [
    "overall_power(20)"
   ]
  },
  {
   "cell_type": "code",
   "execution_count": 14,
   "metadata": {},
   "outputs": [
    {
     "name": "stdout",
     "output_type": "stream",
     "text": [
      "Setting emission OFF. 0:RegResultSuccess\n"
     ]
    }
   ],
   "source": [
    "emission_off()"
   ]
  },
  {
   "cell_type": "code",
   "execution_count": null,
   "metadata": {},
   "outputs": [],
   "source": [
    "# Function to check the status based on the mapping\n",
    "def check_device_status(value):\n",
    "    # Use the get method to provide a default message for unknown values\n",
    "    status_mapping = {\n",
    "    0: \"Device is off.\",\n",
    "    1: \"Device is on.\",\n",
    "    2: \"Device is broken.\"\n",
    "    }\n",
    "\n",
    "    message = status_mapping.get(value, \"Unknown status.\")\n",
    "    print(message)\n",
    "\n",
    "# Example usage\n",
    "status_value = int(input(\"Enter the device status (0: off, 1: on, 2: broken): \"))\n",
    "check_device_status(status_value)"
   ]
  },
  {
   "cell_type": "markdown",
   "metadata": {},
   "source": [
    "\"All wavelength and amplitude settings are sent to the RF Driver, not to the SuperK SELECT\"\n",
    "First channel is controlled with 0x90, second with 0x91, and so on up to 0x97 for the eighth channel. \n",
    "Only use the element on index 0. Can send only one 32 bit integer to change this value. "
   ]
  },
  {
   "cell_type": "code",
   "execution_count": 100,
   "metadata": {},
   "outputs": [
    {
     "name": "stdout",
     "output_type": "stream",
     "text": [
      "Crystal temperature:  0.0 degrees C. Unknown result\n"
     ]
    }
   ],
   "source": [
    "COMport = 'COM3' # depends on the port the device is connected to\n",
    "COMPACT_devID = 1 # fixed for the SuperK COMPACT\n",
    "SELECT_devID = 16 # fixed for the SuperK SELECT\n",
    "\n",
    "def crystal_temp():\n",
    "    \"\"\"Read the current crystal temperature in degrees Celsius.\"\"\"\n",
    "    result = registerReadS16(COMport, SELECT_devID, 0x38, -1)\n",
    "    temperature = result[1] # temperature given in 0.1 degrees C\n",
    "    print('Crystal temperature: ', temperature/10, 'degrees C.', RegisterResultTypes(result))\n",
    "\n",
    "crystal_temp()"
   ]
  },
  {
   "cell_type": "code",
   "execution_count": null,
   "metadata": {},
   "outputs": [],
   "source": [
    "def set_channel(channel, wavelength, amplitude):          # NOT WORKING\n",
    "    \"\"\"Specify the channel (1-8), then set the wavelength in nm and amplitude as a percent for that channel.\"\"\"\n",
    "    wavelength_channel_ID = int(channel-1)\n",
    "    wavelength_address = f\"0x9{wavelength_channel_ID}\"\n",
    "    wavelength_address = int(wavelength_address, 16)\n",
    "    wavelength_pm = int(wavelength*1000) # convert nm to pm as the input format\n",
    "\n",
    "    amplitude_channel_ID = int(channel-1)\n",
    "    amplitude_address = f\"0xB{amplitude_channel_ID}\"\n",
    "    amplitude_address = int(amplitude_address, 16)\n",
    "    amplitude_percent = int(amplitude*10) # convert to tenths of a percent as the imput format\n",
    "\n",
    "    result1 = registerWriteReadU32(COMport, SELECT_devID, wavelength_address, wavelength_pm, 0)\n",
    "    result2 = registerWriteReadU16(COMport, SELECT_devID, amplitude_address, amplitude_percent, -1)\n",
    "\n",
    "    print(f'Channel {channel} wavelength set to:', wavelength, 'nm, amplitude set to:', amplitude, '%.', RegisterResultTypes(result1), RegisterResultTypes(result2))"
   ]
  },
  {
   "cell_type": "code",
   "execution_count": 84,
   "metadata": {},
   "outputs": [
    {
     "name": "stdout",
     "output_type": "stream",
     "text": [
      "Channel 1 wavelength set to: 1500 nm, amplitude set to: 10 % Unknown result Unknown result\n"
     ]
    }
   ],
   "source": [
    "set_channel(1, 1500, 10)"
   ]
  },
  {
   "cell_type": "code",
   "execution_count": null,
   "metadata": {},
   "outputs": [
    {
     "name": "stdout",
     "output_type": "stream",
     "text": [
      "No crystal is connected to the RF driver.\n"
     ]
    }
   ],
   "source": [
    "def read_connected_crystal():  # CHECK IF WORKING\n",
    "    \"\"\"Read the connected crystal.\"\"\"\n",
    "    result = registerReadS8(COMport, SELECT_devID, 0x75, -1)\n",
    "    crystal_type = result[1]\n",
    "\n",
    "    if crystal_type==0:\n",
    "        print('No crystal is connected to the RF driver.')\n",
    "    else:\n",
    "        print('Connected to crystal:', crystal_type, RegisterResultTypes(result))\n",
    "\n",
    "read_connected_crystal()"
   ]
  },
  {
   "cell_type": "code",
   "execution_count": 66,
   "metadata": {},
   "outputs": [
    {
     "name": "stdout",
     "output_type": "stream",
     "text": [
      "(4, 0)\n",
      "Connected crystal type: 0 Unknown result\n"
     ]
    }
   ],
   "source": [
    "read_connected_crystal()"
   ]
  },
  {
   "cell_type": "markdown",
   "metadata": {},
   "source": [
    "TODO: double check the device address for RF driver"
   ]
  },
  {
   "cell_type": "code",
   "execution_count": 3,
   "metadata": {},
   "outputs": [],
   "source": [
    "def RF_power_on():\n",
    "    \"\"\"Turn on power output to the RF driver to SuperK SELECT.\"\"\"\n",
    "    result = registerWriteReadU8(COMport, SELECT_devID, 0x30, 1, -1)\n",
    "    print('RF power output is on.', RegisterResultTypes(result))"
   ]
  },
  {
   "cell_type": "code",
   "execution_count": null,
   "metadata": {},
   "outputs": [],
   "source": [
    "def RF_power_off():\n",
    "    \"\"\"Turn off power output to the RF driver to SuperK SELECT.\"\"\"\n",
    "    result = registerWriteReadU8(COMport, SELECT_devID, 0x30, 0, -1)\n",
    "    print('RF power output is off.', RegisterResultTypes(result))"
   ]
  },
  {
   "cell_type": "code",
   "execution_count": 80,
   "metadata": {},
   "outputs": [
    {
     "name": "stdout",
     "output_type": "stream",
     "text": [
      "Minimum wavelength for crystal 1: 500 nm. Unknown status\n"
     ]
    }
   ],
   "source": [
    "# TRY GETTING A RESPONSE FROM THE DIFFERENT RESULT TYPES\n",
    "\n",
    "def wavelength_min1():\n",
    "    \"\"\"Crystal 1 (VIS/NIR) minimum wavelength in nm.\"\"\"\n",
    "    result = registerReadU32(COMport, SELECT_devID, 0x90, -1)\n",
    "    wavelength = result[1]/1000 # convert pm to nm\n",
    "    print(f'Minimum wavelength for crystal 1: {int(wavelength)} nm.', RegisterStatusTypes(result))\n",
    "\n",
    "wavelength_min1()"
   ]
  }
 ],
 "metadata": {
  "kernelspec": {
   "display_name": "First_Light_SDK",
   "language": "python",
   "name": "python3"
  },
  "language_info": {
   "codemirror_mode": {
    "name": "ipython",
    "version": 3
   },
   "file_extension": ".py",
   "mimetype": "text/x-python",
   "name": "python",
   "nbconvert_exporter": "python",
   "pygments_lexer": "ipython3",
   "version": "3.10.11"
  }
 },
 "nbformat": 4,
 "nbformat_minor": 2
}
