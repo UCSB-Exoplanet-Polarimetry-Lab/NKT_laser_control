{
 "cells": [
  {
   "cell_type": "markdown",
   "metadata": {},
   "source": [
    "Here is a demo for operating the NKT Photonics SuperK COMPACT laser with SELECT tunable filter. To get started, make sure the laser is physically turned on, the interlock key is switched to the \"ON\" position, and the knob on the SELECT is turned to \"OPEN\". The laser can also be used with the Control software, but make sure this is disconnected when running the demo. There are three device classes we will be using: \n",
    "\n",
    "**compact** - SuperK COMPACT in charge of the overall laser power and general characteristics <br>\n",
    "**select** - SuperK SELECT in charge of the two output modes (VIS/NIR and NIR/IR) <br>\n",
    "**driver** - external RF driver for the SELECT, in charge of modulating frequency/wavelength for up to eight laser channels"
   ]
  },
  {
   "cell_type": "code",
   "execution_count": 1,
   "metadata": {},
   "outputs": [
    {
     "name": "stdout",
     "output_type": "stream",
     "text": [
      "Loading x64 DLL from: C:\\Users\\Public\\Documents\\NKT Photonics\\SDK\\NKTPDLL\\x64\\NKTPDLL.dll\n"
     ]
    }
   ],
   "source": [
    "from NKTP_DLL import *\n",
    "from controls import compact, select, driver, get_status"
   ]
  },
  {
   "cell_type": "markdown",
   "metadata": {},
   "source": [
    "The functions used here call devices from a specific COM port. This is configured already, but can be manually changed by defining an instance of each device class. You can also check which ports are in use using the scan_ports() function. For now, let's get the laser set up. "
   ]
  },
  {
   "cell_type": "code",
   "execution_count": 2,
   "metadata": {},
   "outputs": [],
   "source": [
    "compact = compact()\n",
    "select = select()\n",
    "driver = driver()"
   ]
  },
  {
   "cell_type": "code",
   "execution_count": 3,
   "metadata": {},
   "outputs": [
    {
     "name": "stdout",
     "output_type": "stream",
     "text": [
      "Waiting for interlock to reset.\n",
      "Laser mode: Internal frequency generator\n",
      "Emission is OFF.\n",
      "RF power is OFF.\n"
     ]
    }
   ],
   "source": [
    "get_status(compact, driver)"
   ]
  },
  {
   "cell_type": "code",
   "execution_count": 4,
   "metadata": {},
   "outputs": [
    {
     "name": "stdout",
     "output_type": "stream",
     "text": [
      "Interlock is OK.\n",
      "Setting emission ON.\n",
      "Setting overall power level to 30%.\n"
     ]
    }
   ],
   "source": [
    "compact.reset_interlock()\n",
    "compact.emission_on()\n",
    "compact.overall_power(30) # set overall power to 30%"
   ]
  },
  {
   "cell_type": "markdown",
   "metadata": {},
   "source": [
    "The laser is ready, but there won't be output until we activate the RF driver as well."
   ]
  },
  {
   "cell_type": "code",
   "execution_count": 5,
   "metadata": {},
   "outputs": [
    {
     "name": "stdout",
     "output_type": "stream",
     "text": [
      "RF power is ON.\n",
      "Channel 1 wavelength set to: 1800.0 nm, amplitude set to: 50.0 %.\n"
     ]
    }
   ],
   "source": [
    "driver.RF_power_on()\n",
    "driver.set_channel(1, 1800, 50) # set channel 1 output to 1800 nm at 50% power"
   ]
  },
  {
   "cell_type": "markdown",
   "metadata": {},
   "source": [
    "Now there is emission from a single channel. Up to 8 channels can be set simultaneously. Note that the RF power is a fraction of the overall power, so the current output here is 30%*50%=15% of the total possible power. "
   ]
  },
  {
   "cell_type": "markdown",
   "metadata": {},
   "source": [
    "There are a number of other useful functions we can use. For example:"
   ]
  },
  {
   "cell_type": "code",
   "execution_count": 6,
   "metadata": {},
   "outputs": [
    {
     "name": "stdout",
     "output_type": "stream",
     "text": [
      "Crystal 2 (NIR/IR) wavelength range: 1100 nm to 2000 nm.\n"
     ]
    }
   ],
   "source": [
    "select.crystal2_range()"
   ]
  },
  {
   "cell_type": "markdown",
   "metadata": {},
   "source": [
    "We can also check the status again:"
   ]
  },
  {
   "cell_type": "code",
   "execution_count": 7,
   "metadata": {},
   "outputs": [
    {
     "name": "stdout",
     "output_type": "stream",
     "text": [
      "Interlock is OK.\n",
      "Laser mode: Internal frequency generator\n",
      "Emission is ON.\n",
      "Overall power level: 30%\n",
      "RF power is ON.\n",
      "Channel 1 is ON, wavelength: 1800.0 nm, amplitude: 50.0 %.\n",
      "Channels [2, 3, 4, 5, 6, 7, 8] are OFF\n"
     ]
    }
   ],
   "source": [
    "get_status(compact, driver)"
   ]
  },
  {
   "cell_type": "markdown",
   "metadata": {},
   "source": [
    "When finished, set the laser back as it was by running:"
   ]
  },
  {
   "cell_type": "code",
   "execution_count": 8,
   "metadata": {},
   "outputs": [
    {
     "name": "stdout",
     "output_type": "stream",
     "text": [
      "RF power is OFF.\n",
      "Setting emission OFF.\n",
      "Waiting for interlock to reset.\n"
     ]
    }
   ],
   "source": [
    "driver.RF_power_off()\n",
    "compact.emission_off()\n",
    "compact.disable_interlock()"
   ]
  }
 ],
 "metadata": {
  "kernelspec": {
   "display_name": "First_Light_SDK",
   "language": "python",
   "name": "python3"
  },
  "language_info": {
   "codemirror_mode": {
    "name": "ipython",
    "version": 3
   },
   "file_extension": ".py",
   "mimetype": "text/x-python",
   "name": "python",
   "nbconvert_exporter": "python",
   "pygments_lexer": "ipython3",
   "version": "3.10.11"
  }
 },
 "nbformat": 4,
 "nbformat_minor": 2
}
