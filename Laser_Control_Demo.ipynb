{
 "cells": [
  {
   "cell_type": "markdown",
   "metadata": {},
   "source": [
    "Here is a demo for operating the NKT Photonics SuperK COMPACT laser with SELECT tunable filter. To get started, make sure the laser is physically turned on and the interlock key is switched to the \"ON\" position. The laser can also be used with the Control software, but make sure this is disconnected when running the demo. There are three device classes we will be using: \n",
    "\n",
    "**compact** - SuperK COMPACT in charge of the overall laser power and general characteristics <br>\n",
    "**select** - SuperK SELECT in charge of the two output modes (VIS/NIR and NIR/IR) <br>\n",
    "**driver** - external RF driver for the SELECT, in charge of modulating frequency/wavelength for up to eight laser channels"
   ]
  },
  {
   "cell_type": "code",
   "execution_count": null,
   "metadata": {},
   "outputs": [],
   "source": [
    "from NKTP_DLL import *\n",
    "from controls import compact, select, driver"
   ]
  },
  {
   "cell_type": "markdown",
   "metadata": {},
   "source": [
    "The functions used here call devices from a specific COM port. This is configured already, but can be manually changed by defining an instance of each device class. You can also check which ports are in use using the scan_ports() function. For now, let's get the laser set up. "
   ]
  },
  {
   "cell_type": "code",
   "execution_count": null,
   "metadata": {},
   "outputs": [],
   "source": [
    "compact.reset_interlock()\n",
    "compact.emission_on()\n",
    "compact.overall_power(30) # set overall power to 30%"
   ]
  },
  {
   "cell_type": "markdown",
   "metadata": {},
   "source": [
    "The laser is ready, but there won't be output until we activate the RF driver as well."
   ]
  },
  {
   "cell_type": "code",
   "execution_count": null,
   "metadata": {},
   "outputs": [],
   "source": [
    "driver.RF_power_on()\n",
    "driver.set_channel(1, 1800, 50) # set channel 1 output to 1800 nm at 50% power"
   ]
  },
  {
   "cell_type": "markdown",
   "metadata": {},
   "source": [
    "Now there is emission from a single channel. Up to 8 channels can be set simultaneously. Note that the RF power is a fraction of the overall power, so the current output here is 30%*50%=15% of the total possible power. "
   ]
  },
  {
   "cell_type": "markdown",
   "metadata": {},
   "source": [
    "There are a number of other useful functions we can use. For example:"
   ]
  },
  {
   "cell_type": "code",
   "execution_count": null,
   "metadata": {},
   "outputs": [
    {
     "name": "stdout",
     "output_type": "stream",
     "text": [
      "Laser mode: Internal frequency generator\n"
     ]
    }
   ],
   "source": [
    "compact.trig_mode()\n",
    "select.crystal1_range()\n",
    "compact.display_readout()"
   ]
  },
  {
   "cell_type": "markdown",
   "metadata": {},
   "source": [
    "When finished, set the laser back as it was by running:"
   ]
  },
  {
   "cell_type": "code",
   "execution_count": null,
   "metadata": {},
   "outputs": [],
   "source": [
    "driver.RF_power_off()\n",
    "compact.emission_off()\n",
    "compact.disable_interlock()"
   ]
  },
  {
   "cell_type": "markdown",
   "metadata": {},
   "source": [
    "TODO: double check the device address for RF driver"
   ]
  },
  {
   "cell_type": "code",
   "execution_count": 8,
   "metadata": {},
   "outputs": [
    {
     "name": "stdout",
     "output_type": "stream",
     "text": [
      "Minimum wavelength for crystal 1: 1680 nm. Unknown status\n"
     ]
    }
   ],
   "source": [
    "# TRY GETTING A RESPONSE FROM THE DIFFERENT RESULT TYPES\n",
    "\n",
    "def wavelength_min1():\n",
    "    \"\"\"Crystal 1 (VIS/NIR) minimum wavelength in nm.\"\"\"\n",
    "    result = registerReadU32(COMport, RFdriver_devID, 0x90, -1)\n",
    "    wavelength = result[1]/1000 # convert pm to nm\n",
    "    print(f'Minimum wavelength for crystal 1: {int(wavelength)} nm.', RegisterStatusTypes(result))\n",
    "\n",
    "wavelength_min1()"
   ]
  },
  {
   "cell_type": "code",
   "execution_count": 5,
   "metadata": {},
   "outputs": [],
   "source": [
    "# select class\n",
    "\n",
    "def power_monitor(self):    # CHECK\n",
    "    \"\"\"Readout from optional optical power monitors. Result as a percent.\"\"\"\n",
    "    result1 = registerReadU16(self.COMport, self.SELECT_devID, 0x10, -1)\n",
    "    power1 = result1[1]/10\n",
    "\n",
    "    result2 = registerReadU16(self.COMport, self.SELECT_devID, 0x11, -1)\n",
    "    power2 = result2[1]/10\n",
    "\n",
    "    print(f'Power monitor 1 readout: {power1} %, power monitor 2 readout: {power2} %.')"
   ]
  },
  {
   "cell_type": "code",
   "execution_count": null,
   "metadata": {},
   "outputs": [],
   "source": [
    "def monitor_switch(self, crystal=None):  # CHECK\n",
    "    \"\"\"Select which power detector should be connected to the output connector. Optional input 1 or 2 to switch to the corresponding crystal.\"\"\"\n",
    "    if crystal==None:\n",
    "        result = registerReadU8(self.COMport, self.SELECT_devID, 0x35, -1)\n",
    "        result = result[1]\n",
    "        if result == 0:\n",
    "            print('Optical power monitor connected to crystal 1.')\n",
    "        elif result == 1:\n",
    "            print('Optical power monitor connected to crystal 2.')\n",
    "\n",
    "    elif crystal == 1:\n",
    "        result = registerWriteReadU8(self.COMport, self.SELECT_devID, 0x35, 0, -1)\n",
    "        print('Optical power monitor connected to crystal 1.')\n",
    "    elif crystal == 2:\n",
    "        result = registerWriteReadU8(self.COMport, self.SELECT_devID, 0x35, 1, -1)\n",
    "        print('Optical power monitor connected to crystal 2.')\n",
    "\n",
    "    else:\n",
    "        print('Invalid input. Choose 1 or 2.')"
   ]
  }
 ],
 "metadata": {
  "kernelspec": {
   "display_name": "base",
   "language": "python",
   "name": "python3"
  },
  "language_info": {
   "codemirror_mode": {
    "name": "ipython",
    "version": 3
   },
   "file_extension": ".py",
   "mimetype": "text/x-python",
   "name": "python",
   "nbconvert_exporter": "python",
   "pygments_lexer": "ipython3",
   "version": "3.12.4"
  }
 },
 "nbformat": 4,
 "nbformat_minor": 2
}
