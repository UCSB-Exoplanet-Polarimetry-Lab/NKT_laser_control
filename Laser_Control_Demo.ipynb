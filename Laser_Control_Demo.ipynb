{
 "cells": [
  {
   "cell_type": "markdown",
   "metadata": {},
   "source": [
    "Testing SuperK SELECT control via Python. We are using NKT Photonics SuperK Compact laser with SELECT tunable filter. Laser is on COM3."
   ]
  },
  {
   "cell_type": "markdown",
   "metadata": {},
   "source": [
    "Python interface doesn't work while Control software is connected."
   ]
  },
  {
   "cell_type": "code",
   "execution_count": 1,
   "metadata": {},
   "outputs": [
    {
     "name": "stdout",
     "output_type": "stream",
     "text": [
      "Loading x64 DLL from: C:\\Users\\Public\\Documents\\NKT Photonics\\SDK\\NKTPDLL\\x64\\NKTPDLL.dll\n"
     ]
    }
   ],
   "source": [
    "from controls import *"
   ]
  },
  {
   "cell_type": "code",
   "execution_count": 6,
   "metadata": {},
   "outputs": [
    {
     "name": "stdout",
     "output_type": "stream",
     "text": [
      "Following ports has modules: COM3\n",
      "Comport: COM3 Device type: 0x0074 at address: 1\n",
      "Comport: COM3 Device type: 0x0067 at address: 16\n",
      "Comport: COM3 Device type: 0x0066 at address: 17\n",
      "Close result:  0:OPSuccess\n"
     ]
    }
   ],
   "source": [
    "scan_ports()"
   ]
  },
  {
   "cell_type": "code",
   "execution_count": 7,
   "metadata": {},
   "outputs": [
    {
     "name": "stdout",
     "output_type": "stream",
     "text": [
      "Waiting for interlock to reset.\n"
     ]
    }
   ],
   "source": [
    "get_interlock()"
   ]
  },
  {
   "cell_type": "code",
   "execution_count": 8,
   "metadata": {},
   "outputs": [
    {
     "name": "stdout",
     "output_type": "stream",
     "text": [
      "Interlock is OK.\n"
     ]
    }
   ],
   "source": [
    "reset_interlock()"
   ]
  },
  {
   "cell_type": "code",
   "execution_count": 13,
   "metadata": {},
   "outputs": [
    {
     "name": "stdout",
     "output_type": "stream",
     "text": [
      "Laser mode: Internal frequency generator\n"
     ]
    }
   ],
   "source": [
    "trig_mode()"
   ]
  },
  {
   "cell_type": "code",
   "execution_count": 10,
   "metadata": {},
   "outputs": [
    {
     "name": "stdout",
     "output_type": "stream",
     "text": [
      "Setting emission ON. 0:RegResultSuccess\n"
     ]
    }
   ],
   "source": [
    "emission_on()"
   ]
  },
  {
   "cell_type": "code",
   "execution_count": 12,
   "metadata": {},
   "outputs": [
    {
     "name": "stdout",
     "output_type": "stream",
     "text": [
      "Setting overall power level to 20%.\n"
     ]
    }
   ],
   "source": [
    "overall_power(20)"
   ]
  },
  {
   "cell_type": "code",
   "execution_count": 14,
   "metadata": {},
   "outputs": [
    {
     "name": "stdout",
     "output_type": "stream",
     "text": [
      "Setting emission OFF. 0:RegResultSuccess\n"
     ]
    }
   ],
   "source": [
    "emission_off()"
   ]
  },
  {
   "cell_type": "markdown",
   "metadata": {},
   "source": [
    "\"All wavelength and amplitude settings are sent to the RF Driver, not to the SuperK SELECT\"\n",
    "First channel is controlled with 0x90, second with 0x91, and so on up to 0x97 for the eighth channel. \n",
    "Only use the element on index 0. Can send only one 32 bit integer to change this value. "
   ]
  },
  {
   "cell_type": "code",
   "execution_count": 108,
   "metadata": {},
   "outputs": [],
   "source": [
    "COMport = 'COM3' # depends on the port the device is connected to\n",
    "COMPACT_devID = 1 # fixed for the SuperK COMPACT\n",
    "SELECT_devID = 16 # fixed for the SuperK SELECT\n",
    "RFdriver_devID = 17 # fixed for the SuperK RF driver"
   ]
  },
  {
   "cell_type": "code",
   "execution_count": null,
   "metadata": {},
   "outputs": [],
   "source": [
    "def set_channel(channel, wavelength, amplitude):          # WORKS\n",
    "    \"\"\"Specify the channel (1-8), then set the wavelength in nm and amplitude as a percent for that channel.\"\"\"\n",
    "    wavelength_channel_ID = int(channel-1)\n",
    "    wavelength_address = f\"0x9{wavelength_channel_ID}\"\n",
    "    wavelength_address = int(wavelength_address, 16)\n",
    "    wavelength_pm = int(wavelength*1000) # convert nm to pm as the input format\n",
    "\n",
    "    amplitude_channel_ID = int(channel-1)\n",
    "    amplitude_address = f\"0xB{amplitude_channel_ID}\"\n",
    "    amplitude_address = int(amplitude_address, 16)\n",
    "    amplitude_percent = int(amplitude*10) # convert to tenths of a percent as the imput format\n",
    "\n",
    "    result1 = registerWriteReadU32(COMport, RFdriver_devID, wavelength_address, wavelength_pm, 0) # send index 0 if not in FSK mode\n",
    "    result2 = registerWriteReadU16(COMport, RFdriver_devID, amplitude_address, amplitude_percent, -1)\n",
    "\n",
    "    print(f'Channel {channel} wavelength set to:', result1[1]/1000, 'nm, amplitude set to:', result2[1]/10, '%.')"
   ]
  },
  {
   "cell_type": "code",
   "execution_count": 86,
   "metadata": {},
   "outputs": [
    {
     "name": "stdout",
     "output_type": "stream",
     "text": [
      "RF power is off.\n"
     ]
    }
   ],
   "source": [
    "RF_power_off()"
   ]
  },
  {
   "cell_type": "code",
   "execution_count": 87,
   "metadata": {},
   "outputs": [
    {
     "name": "stdout",
     "output_type": "stream",
     "text": [
      "Setting emission OFF. 0:RegResultSuccess\n"
     ]
    }
   ],
   "source": [
    "emission_off()"
   ]
  },
  {
   "cell_type": "code",
   "execution_count": 85,
   "metadata": {},
   "outputs": [
    {
     "name": "stdout",
     "output_type": "stream",
     "text": [
      "Channel 1 wavelength set to: 1800.0 nm, amplitude set to: 20.0 %.\n"
     ]
    }
   ],
   "source": [
    "set_channel(1, 1800, 20)"
   ]
  },
  {
   "cell_type": "code",
   "execution_count": 83,
   "metadata": {},
   "outputs": [
    {
     "name": "stdout",
     "output_type": "stream",
     "text": [
      "Channel 2 wavelength set to: 1400.0 nm, amplitude set to: 0.0 %.\n"
     ]
    }
   ],
   "source": [
    "set_channel(2, 1400, 0)"
   ]
  },
  {
   "cell_type": "code",
   "execution_count": 84,
   "metadata": {},
   "outputs": [
    {
     "name": "stdout",
     "output_type": "stream",
     "text": [
      "Channel 3 wavelength set to: 1820.0 nm, amplitude set to: 0.0 %.\n"
     ]
    }
   ],
   "source": [
    "set_channel(3, 1820, 0)"
   ]
  },
  {
   "cell_type": "code",
   "execution_count": 57,
   "metadata": {},
   "outputs": [
    {
     "name": "stdout",
     "output_type": "stream",
     "text": [
      "RF power is on.\n"
     ]
    }
   ],
   "source": [
    "RF_power_on()"
   ]
  },
  {
   "cell_type": "code",
   "execution_count": 63,
   "metadata": {},
   "outputs": [
    {
     "name": "stdout",
     "output_type": "stream",
     "text": [
      "0\n"
     ]
    }
   ],
   "source": [
    "def set_channel_1(wavelength):\n",
    "    wavelength_pm = int(wavelength*1000) # convert nm to pm as the input format\n",
    "    result = registerWriteS32(COMport, RFdriver_devID, 0x90, wavelength_pm, 0)\n",
    "    print(result)\n",
    "\n",
    "set_channel_1(1920)"
   ]
  },
  {
   "cell_type": "code",
   "execution_count": 26,
   "metadata": {},
   "outputs": [
    {
     "data": {
      "text/plain": [
       "0"
      ]
     },
     "execution_count": 26,
     "metadata": {},
     "output_type": "execute_result"
    }
   ],
   "source": [
    "registerWriteU32(COMport, RFdriver_devID, 0x90, 1780000, 0)"
   ]
  },
  {
   "cell_type": "code",
   "execution_count": 65,
   "metadata": {},
   "outputs": [
    {
     "name": "stdout",
     "output_type": "stream",
     "text": [
      "(0, 1680000)\n"
     ]
    }
   ],
   "source": [
    "result = registerReadU32(COMport, RFdriver_devID, 0x90, 0)\n",
    "print(result)"
   ]
  },
  {
   "cell_type": "code",
   "execution_count": 36,
   "metadata": {},
   "outputs": [
    {
     "name": "stdout",
     "output_type": "stream",
     "text": [
      "10.0\n"
     ]
    }
   ],
   "source": [
    "result = registerReadU32(COMport, RFdriver_devID, 0xB0, 0)\n",
    "print(result[1]/10)"
   ]
  },
  {
   "cell_type": "markdown",
   "metadata": {},
   "source": [
    "TODO: double check the device address for RF driver"
   ]
  },
  {
   "cell_type": "code",
   "execution_count": 8,
   "metadata": {},
   "outputs": [
    {
     "name": "stdout",
     "output_type": "stream",
     "text": [
      "Minimum wavelength for crystal 1: 1680 nm. Unknown status\n"
     ]
    }
   ],
   "source": [
    "# TRY GETTING A RESPONSE FROM THE DIFFERENT RESULT TYPES\n",
    "\n",
    "def wavelength_min1():\n",
    "    \"\"\"Crystal 1 (VIS/NIR) minimum wavelength in nm.\"\"\"\n",
    "    result = registerReadU32(COMport, RFdriver_devID, 0x90, -1)\n",
    "    wavelength = result[1]/1000 # convert pm to nm\n",
    "    print(f'Minimum wavelength for crystal 1: {int(wavelength)} nm.', RegisterStatusTypes(result))\n",
    "\n",
    "wavelength_min1()"
   ]
  }
 ],
 "metadata": {
  "kernelspec": {
   "display_name": "First_Light_SDK",
   "language": "python",
   "name": "python3"
  },
  "language_info": {
   "codemirror_mode": {
    "name": "ipython",
    "version": 3
   },
   "file_extension": ".py",
   "mimetype": "text/x-python",
   "name": "python",
   "nbconvert_exporter": "python",
   "pygments_lexer": "ipython3",
   "version": "3.10.11"
  }
 },
 "nbformat": 4,
 "nbformat_minor": 2
}
