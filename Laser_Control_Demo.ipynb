{
 "cells": [
  {
   "cell_type": "markdown",
   "metadata": {},
   "source": [
    "Testing SuperK SELECT control via Python. We are using NKT Photonics SuperK Compact laser with SELECT tunable filter. Laser is on COM3."
   ]
  },
  {
   "cell_type": "markdown",
   "metadata": {},
   "source": [
    "Python interface doesn't work while Control software is connected."
   ]
  },
  {
   "cell_type": "code",
   "execution_count": 3,
   "metadata": {},
   "outputs": [
    {
     "name": "stdout",
     "output_type": "stream",
     "text": [
      "Loading x64 DLL from: C:\\NKTP_SDK\\NKTPDLL\\x64\\NKTPDLL.dll\n"
     ]
    },
    {
     "ename": "FileNotFoundError",
     "evalue": "Could not find module 'C:\\NKTP_SDK\\NKTPDLL\\x64\\NKTPDLL.dll' (or one of its dependencies). Try using the full path with constructor syntax.",
     "output_type": "error",
     "traceback": [
      "\u001b[1;31m---------------------------------------------------------------------------\u001b[0m",
      "\u001b[1;31mFileNotFoundError\u001b[0m                         Traceback (most recent call last)",
      "Cell \u001b[1;32mIn[3], line 1\u001b[0m\n\u001b[1;32m----> 1\u001b[0m \u001b[38;5;28;01mfrom\u001b[39;00m \u001b[38;5;21;01mcontrols\u001b[39;00m \u001b[38;5;28;01mimport\u001b[39;00m \u001b[38;5;241m*\u001b[39m\n",
      "File \u001b[1;32mc:\\Users\\admin1\\OneDrive\\Documents\\GitHub\\NKT_laser_control\\controls.py:1\u001b[0m\n\u001b[1;32m----> 1\u001b[0m \u001b[38;5;28;01mfrom\u001b[39;00m \u001b[38;5;21;01mNKTP_DLL\u001b[39;00m \u001b[38;5;28;01mimport\u001b[39;00m \u001b[38;5;241m*\u001b[39m\n\u001b[0;32m      3\u001b[0m COMport \u001b[38;5;241m=\u001b[39m \u001b[38;5;124m'\u001b[39m\u001b[38;5;124mCOM3\u001b[39m\u001b[38;5;124m'\u001b[39m \u001b[38;5;66;03m# depends on the port the device is connected to. COM3 for Rayleigh desktop\u001b[39;00m\n\u001b[0;32m      4\u001b[0m COMPACT_devID \u001b[38;5;241m=\u001b[39m \u001b[38;5;241m1\u001b[39m \u001b[38;5;66;03m# fixed for the SuperK COMPACT\u001b[39;00m\n",
      "File \u001b[1;32mc:\\Users\\admin1\\OneDrive\\Documents\\GitHub\\NKT_laser_control\\NKTP_DLL.py:16\u001b[0m\n\u001b[0;32m     14\u001b[0m \u001b[38;5;28;01melse\u001b[39;00m:\n\u001b[0;32m     15\u001b[0m         \u001b[38;5;28mprint\u001b[39m(\u001b[38;5;124m'\u001b[39m\u001b[38;5;124mLoading x64 DLL from:\u001b[39m\u001b[38;5;124m'\u001b[39m, dllFolder \u001b[38;5;241m+\u001b[39m \u001b[38;5;124mr\u001b[39m\u001b[38;5;124m'\u001b[39m\u001b[38;5;124m\\\u001b[39m\u001b[38;5;124mNKTPDLL\u001b[39m\u001b[38;5;124m\\\u001b[39m\u001b[38;5;124mx64\u001b[39m\u001b[38;5;124m\\\u001b[39m\u001b[38;5;124mNKTPDLL.dll\u001b[39m\u001b[38;5;124m'\u001b[39m)\n\u001b[1;32m---> 16\u001b[0m         NKTPDLL \u001b[38;5;241m=\u001b[39m ctypes\u001b[38;5;241m.\u001b[39mcdll\u001b[38;5;241m.\u001b[39mLoadLibrary( dllFolder \u001b[38;5;241m+\u001b[39m \u001b[38;5;124mr\u001b[39m\u001b[38;5;124m'\u001b[39m\u001b[38;5;124m\\\u001b[39m\u001b[38;5;124mNKTPDLL\u001b[39m\u001b[38;5;124m\\\u001b[39m\u001b[38;5;124mx64\u001b[39m\u001b[38;5;124m\\\u001b[39m\u001b[38;5;124mNKTPDLL.dll\u001b[39m\u001b[38;5;124m'\u001b[39m)\n\u001b[0;32m     18\u001b[0m \u001b[38;5;28;01mdef\u001b[39;00m \u001b[38;5;21mPortResultTypes\u001b[39m(result):\n\u001b[0;32m     19\u001b[0m         \u001b[38;5;28;01mreturn\u001b[39;00m {\n\u001b[0;32m     20\u001b[0m                 \u001b[38;5;241m0\u001b[39m: \u001b[38;5;124m'\u001b[39m\u001b[38;5;124m0:OPSuccess\u001b[39m\u001b[38;5;124m'\u001b[39m,\n\u001b[0;32m     21\u001b[0m                 \u001b[38;5;241m1\u001b[39m: \u001b[38;5;124m'\u001b[39m\u001b[38;5;124m1:OPFailed\u001b[39m\u001b[38;5;124m'\u001b[39m,\n\u001b[1;32m   (...)\u001b[0m\n\u001b[0;32m     24\u001b[0m                 \u001b[38;5;241m4\u001b[39m: \u001b[38;5;124m'\u001b[39m\u001b[38;5;124m4:OPApplicationBusy\u001b[39m\u001b[38;5;124m'\u001b[39m,\n\u001b[0;32m     25\u001b[0m                 }\u001b[38;5;241m.\u001b[39mget(result, \u001b[38;5;124m'\u001b[39m\u001b[38;5;124mUnknown result\u001b[39m\u001b[38;5;124m'\u001b[39m)\n",
      "File \u001b[1;32mc:\\Users\\admin1\\anaconda3\\Lib\\ctypes\\__init__.py:460\u001b[0m, in \u001b[0;36mLibraryLoader.LoadLibrary\u001b[1;34m(self, name)\u001b[0m\n\u001b[0;32m    459\u001b[0m \u001b[38;5;28;01mdef\u001b[39;00m \u001b[38;5;21mLoadLibrary\u001b[39m(\u001b[38;5;28mself\u001b[39m, name):\n\u001b[1;32m--> 460\u001b[0m     \u001b[38;5;28;01mreturn\u001b[39;00m \u001b[38;5;28mself\u001b[39m\u001b[38;5;241m.\u001b[39m_dlltype(name)\n",
      "File \u001b[1;32mc:\\Users\\admin1\\anaconda3\\Lib\\ctypes\\__init__.py:379\u001b[0m, in \u001b[0;36mCDLL.__init__\u001b[1;34m(self, name, mode, handle, use_errno, use_last_error, winmode)\u001b[0m\n\u001b[0;32m    376\u001b[0m \u001b[38;5;28mself\u001b[39m\u001b[38;5;241m.\u001b[39m_FuncPtr \u001b[38;5;241m=\u001b[39m _FuncPtr\n\u001b[0;32m    378\u001b[0m \u001b[38;5;28;01mif\u001b[39;00m handle \u001b[38;5;129;01mis\u001b[39;00m \u001b[38;5;28;01mNone\u001b[39;00m:\n\u001b[1;32m--> 379\u001b[0m     \u001b[38;5;28mself\u001b[39m\u001b[38;5;241m.\u001b[39m_handle \u001b[38;5;241m=\u001b[39m _dlopen(\u001b[38;5;28mself\u001b[39m\u001b[38;5;241m.\u001b[39m_name, mode)\n\u001b[0;32m    380\u001b[0m \u001b[38;5;28;01melse\u001b[39;00m:\n\u001b[0;32m    381\u001b[0m     \u001b[38;5;28mself\u001b[39m\u001b[38;5;241m.\u001b[39m_handle \u001b[38;5;241m=\u001b[39m handle\n",
      "\u001b[1;31mFileNotFoundError\u001b[0m: Could not find module 'C:\\NKTP_SDK\\NKTPDLL\\x64\\NKTPDLL.dll' (or one of its dependencies). Try using the full path with constructor syntax."
     ]
    }
   ],
   "source": [
    "from controls import *"
   ]
  },
  {
   "cell_type": "code",
   "execution_count": 2,
   "metadata": {},
   "outputs": [
    {
     "name": "stdout",
     "output_type": "stream",
     "text": [
      "Loading x64 DLL from: C:\\NKTP_SDK\\NKTPDLL\\x64\\NKTPDLL.dll\n"
     ]
    },
    {
     "ename": "FileNotFoundError",
     "evalue": "Could not find module 'C:\\NKTP_SDK\\NKTPDLL\\x64\\NKTPDLL.dll' (or one of its dependencies). Try using the full path with constructor syntax.",
     "output_type": "error",
     "traceback": [
      "\u001b[1;31m---------------------------------------------------------------------------\u001b[0m",
      "\u001b[1;31mFileNotFoundError\u001b[0m                         Traceback (most recent call last)",
      "Cell \u001b[1;32mIn[2], line 1\u001b[0m\n\u001b[1;32m----> 1\u001b[0m \u001b[38;5;28;01mfrom\u001b[39;00m \u001b[38;5;21;01mNKTP_DLL\u001b[39;00m \u001b[38;5;28;01mimport\u001b[39;00m \u001b[38;5;241m*\u001b[39m\n\u001b[0;32m      2\u001b[0m \u001b[38;5;28;01mfrom\u001b[39;00m \u001b[38;5;21;01mcontrols\u001b[39;00m \u001b[38;5;28;01mimport\u001b[39;00m scan_ports, compact, select, driver\n",
      "File \u001b[1;32mc:\\Users\\admin1\\OneDrive\\Documents\\GitHub\\NKT_laser_control\\NKTP_DLL.py:16\u001b[0m\n\u001b[0;32m     14\u001b[0m \u001b[38;5;28;01melse\u001b[39;00m:\n\u001b[0;32m     15\u001b[0m         \u001b[38;5;28mprint\u001b[39m(\u001b[38;5;124m'\u001b[39m\u001b[38;5;124mLoading x64 DLL from:\u001b[39m\u001b[38;5;124m'\u001b[39m, dllFolder \u001b[38;5;241m+\u001b[39m \u001b[38;5;124mr\u001b[39m\u001b[38;5;124m'\u001b[39m\u001b[38;5;124m\\\u001b[39m\u001b[38;5;124mNKTPDLL\u001b[39m\u001b[38;5;124m\\\u001b[39m\u001b[38;5;124mx64\u001b[39m\u001b[38;5;124m\\\u001b[39m\u001b[38;5;124mNKTPDLL.dll\u001b[39m\u001b[38;5;124m'\u001b[39m)\n\u001b[1;32m---> 16\u001b[0m         NKTPDLL \u001b[38;5;241m=\u001b[39m ctypes\u001b[38;5;241m.\u001b[39mcdll\u001b[38;5;241m.\u001b[39mLoadLibrary( dllFolder \u001b[38;5;241m+\u001b[39m \u001b[38;5;124mr\u001b[39m\u001b[38;5;124m'\u001b[39m\u001b[38;5;124m\\\u001b[39m\u001b[38;5;124mNKTPDLL\u001b[39m\u001b[38;5;124m\\\u001b[39m\u001b[38;5;124mx64\u001b[39m\u001b[38;5;124m\\\u001b[39m\u001b[38;5;124mNKTPDLL.dll\u001b[39m\u001b[38;5;124m'\u001b[39m)\n\u001b[0;32m     18\u001b[0m \u001b[38;5;28;01mdef\u001b[39;00m \u001b[38;5;21mPortResultTypes\u001b[39m(result):\n\u001b[0;32m     19\u001b[0m         \u001b[38;5;28;01mreturn\u001b[39;00m {\n\u001b[0;32m     20\u001b[0m                 \u001b[38;5;241m0\u001b[39m: \u001b[38;5;124m'\u001b[39m\u001b[38;5;124m0:OPSuccess\u001b[39m\u001b[38;5;124m'\u001b[39m,\n\u001b[0;32m     21\u001b[0m                 \u001b[38;5;241m1\u001b[39m: \u001b[38;5;124m'\u001b[39m\u001b[38;5;124m1:OPFailed\u001b[39m\u001b[38;5;124m'\u001b[39m,\n\u001b[1;32m   (...)\u001b[0m\n\u001b[0;32m     24\u001b[0m                 \u001b[38;5;241m4\u001b[39m: \u001b[38;5;124m'\u001b[39m\u001b[38;5;124m4:OPApplicationBusy\u001b[39m\u001b[38;5;124m'\u001b[39m,\n\u001b[0;32m     25\u001b[0m                 }\u001b[38;5;241m.\u001b[39mget(result, \u001b[38;5;124m'\u001b[39m\u001b[38;5;124mUnknown result\u001b[39m\u001b[38;5;124m'\u001b[39m)\n",
      "File \u001b[1;32mc:\\Users\\admin1\\anaconda3\\Lib\\ctypes\\__init__.py:460\u001b[0m, in \u001b[0;36mLibraryLoader.LoadLibrary\u001b[1;34m(self, name)\u001b[0m\n\u001b[0;32m    459\u001b[0m \u001b[38;5;28;01mdef\u001b[39;00m \u001b[38;5;21mLoadLibrary\u001b[39m(\u001b[38;5;28mself\u001b[39m, name):\n\u001b[1;32m--> 460\u001b[0m     \u001b[38;5;28;01mreturn\u001b[39;00m \u001b[38;5;28mself\u001b[39m\u001b[38;5;241m.\u001b[39m_dlltype(name)\n",
      "File \u001b[1;32mc:\\Users\\admin1\\anaconda3\\Lib\\ctypes\\__init__.py:379\u001b[0m, in \u001b[0;36mCDLL.__init__\u001b[1;34m(self, name, mode, handle, use_errno, use_last_error, winmode)\u001b[0m\n\u001b[0;32m    376\u001b[0m \u001b[38;5;28mself\u001b[39m\u001b[38;5;241m.\u001b[39m_FuncPtr \u001b[38;5;241m=\u001b[39m _FuncPtr\n\u001b[0;32m    378\u001b[0m \u001b[38;5;28;01mif\u001b[39;00m handle \u001b[38;5;129;01mis\u001b[39;00m \u001b[38;5;28;01mNone\u001b[39;00m:\n\u001b[1;32m--> 379\u001b[0m     \u001b[38;5;28mself\u001b[39m\u001b[38;5;241m.\u001b[39m_handle \u001b[38;5;241m=\u001b[39m _dlopen(\u001b[38;5;28mself\u001b[39m\u001b[38;5;241m.\u001b[39m_name, mode)\n\u001b[0;32m    380\u001b[0m \u001b[38;5;28;01melse\u001b[39;00m:\n\u001b[0;32m    381\u001b[0m     \u001b[38;5;28mself\u001b[39m\u001b[38;5;241m.\u001b[39m_handle \u001b[38;5;241m=\u001b[39m handle\n",
      "\u001b[1;31mFileNotFoundError\u001b[0m: Could not find module 'C:\\NKTP_SDK\\NKTPDLL\\x64\\NKTPDLL.dll' (or one of its dependencies). Try using the full path with constructor syntax."
     ]
    }
   ],
   "source": [
    "from NKTP_DLL import *\n",
    "from controls import scan_ports, compact, select, driver"
   ]
  },
  {
   "cell_type": "code",
   "execution_count": 6,
   "metadata": {},
   "outputs": [
    {
     "name": "stdout",
     "output_type": "stream",
     "text": [
      "Following ports has modules: COM3\n",
      "Comport: COM3 Device type: 0x0074 at address: 1\n",
      "Comport: COM3 Device type: 0x0067 at address: 16\n",
      "Comport: COM3 Device type: 0x0066 at address: 17\n",
      "Close result:  0:OPSuccess\n"
     ]
    }
   ],
   "source": [
    "scan_ports()"
   ]
  },
  {
   "cell_type": "code",
   "execution_count": null,
   "metadata": {},
   "outputs": [
    {
     "name": "stdout",
     "output_type": "stream",
     "text": [
      "Waiting for interlock to reset.\n"
     ]
    }
   ],
   "source": [
    "compact.get_interlock()"
   ]
  },
  {
   "cell_type": "code",
   "execution_count": null,
   "metadata": {},
   "outputs": [
    {
     "name": "stdout",
     "output_type": "stream",
     "text": [
      "Interlock is OK.\n"
     ]
    }
   ],
   "source": [
    "compact.reset_interlock()"
   ]
  },
  {
   "cell_type": "code",
   "execution_count": null,
   "metadata": {},
   "outputs": [
    {
     "name": "stdout",
     "output_type": "stream",
     "text": [
      "Laser mode: Internal frequency generator\n"
     ]
    }
   ],
   "source": [
    "compact.trig_mode()"
   ]
  },
  {
   "cell_type": "code",
   "execution_count": null,
   "metadata": {},
   "outputs": [
    {
     "name": "stdout",
     "output_type": "stream",
     "text": [
      "Setting emission ON. 0:RegResultSuccess\n"
     ]
    }
   ],
   "source": [
    "compact.emission_on()"
   ]
  },
  {
   "cell_type": "code",
   "execution_count": null,
   "metadata": {},
   "outputs": [
    {
     "name": "stdout",
     "output_type": "stream",
     "text": [
      "Setting overall power level to 20%.\n"
     ]
    }
   ],
   "source": [
    "compact.overall_power(20)"
   ]
  },
  {
   "cell_type": "code",
   "execution_count": null,
   "metadata": {},
   "outputs": [
    {
     "name": "stdout",
     "output_type": "stream",
     "text": [
      "Setting emission OFF. 0:RegResultSuccess\n"
     ]
    }
   ],
   "source": [
    "compact.emission_off()"
   ]
  },
  {
   "cell_type": "markdown",
   "metadata": {},
   "source": [
    "\"All wavelength and amplitude settings are sent to the RF Driver, not to the SuperK SELECT\"\n",
    "First channel is controlled with 0x90, second with 0x91, and so on up to 0x97 for the eighth channel. \n",
    "Only use the element on index 0. Can send only one 32 bit integer to change this value. "
   ]
  },
  {
   "cell_type": "code",
   "execution_count": 108,
   "metadata": {},
   "outputs": [],
   "source": [
    "COMport = 'COM3' # depends on the port the device is connected to\n",
    "COMPACT_devID = 1 # fixed for the SuperK COMPACT\n",
    "SELECT_devID = 16 # fixed for the SuperK SELECT\n",
    "RFdriver_devID = 17 # fixed for the SuperK RF driver"
   ]
  },
  {
   "cell_type": "code",
   "execution_count": null,
   "metadata": {},
   "outputs": [],
   "source": [
    "def set_channel(channel, wavelength, amplitude):          # WORKS\n",
    "    \"\"\"Specify the channel (1-8), then set the wavelength in nm and amplitude as a percent for that channel.\"\"\"\n",
    "    wavelength_channel_ID = int(channel-1)\n",
    "    wavelength_address = f\"0x9{wavelength_channel_ID}\"\n",
    "    wavelength_address = int(wavelength_address, 16)\n",
    "    wavelength_pm = int(wavelength*1000) # convert nm to pm as the input format\n",
    "\n",
    "    amplitude_channel_ID = int(channel-1)\n",
    "    amplitude_address = f\"0xB{amplitude_channel_ID}\"\n",
    "    amplitude_address = int(amplitude_address, 16)\n",
    "    amplitude_percent = int(amplitude*10) # convert to tenths of a percent as the imput format\n",
    "\n",
    "    result1 = registerWriteReadU32(COMport, RFdriver_devID, wavelength_address, wavelength_pm, 0) # send index 0 if not in FSK mode\n",
    "    result2 = registerWriteReadU16(COMport, RFdriver_devID, amplitude_address, amplitude_percent, -1)\n",
    "\n",
    "    print(f'Channel {channel} wavelength set to:', result1[1]/1000, 'nm, amplitude set to:', result2[1]/10, '%.')"
   ]
  },
  {
   "cell_type": "code",
   "execution_count": null,
   "metadata": {},
   "outputs": [
    {
     "name": "stdout",
     "output_type": "stream",
     "text": [
      "RF power is off.\n"
     ]
    }
   ],
   "source": [
    "driver.RF_power_off()"
   ]
  },
  {
   "cell_type": "code",
   "execution_count": null,
   "metadata": {},
   "outputs": [
    {
     "name": "stdout",
     "output_type": "stream",
     "text": [
      "Setting emission OFF. 0:RegResultSuccess\n"
     ]
    }
   ],
   "source": [
    "compact.emission_off()"
   ]
  },
  {
   "cell_type": "code",
   "execution_count": null,
   "metadata": {},
   "outputs": [
    {
     "name": "stdout",
     "output_type": "stream",
     "text": [
      "Channel 1 wavelength set to: 1800.0 nm, amplitude set to: 20.0 %.\n"
     ]
    }
   ],
   "source": [
    "driver.set_channel(1, 1800, 20)"
   ]
  },
  {
   "cell_type": "code",
   "execution_count": null,
   "metadata": {},
   "outputs": [
    {
     "name": "stdout",
     "output_type": "stream",
     "text": [
      "Channel 2 wavelength set to: 1400.0 nm, amplitude set to: 0.0 %.\n"
     ]
    }
   ],
   "source": [
    "driver.set_channel(2, 1400, 0)"
   ]
  },
  {
   "cell_type": "code",
   "execution_count": null,
   "metadata": {},
   "outputs": [
    {
     "name": "stdout",
     "output_type": "stream",
     "text": [
      "Channel 3 wavelength set to: 1820.0 nm, amplitude set to: 0.0 %.\n"
     ]
    }
   ],
   "source": [
    "driver.set_channel(3, 1820, 0)"
   ]
  },
  {
   "cell_type": "code",
   "execution_count": null,
   "metadata": {},
   "outputs": [
    {
     "name": "stdout",
     "output_type": "stream",
     "text": [
      "RF power is on.\n"
     ]
    }
   ],
   "source": [
    "driver.RF_power_on()"
   ]
  },
  {
   "cell_type": "markdown",
   "metadata": {},
   "source": [
    "TODO: double check the device address for RF driver"
   ]
  },
  {
   "cell_type": "code",
   "execution_count": 8,
   "metadata": {},
   "outputs": [
    {
     "name": "stdout",
     "output_type": "stream",
     "text": [
      "Minimum wavelength for crystal 1: 1680 nm. Unknown status\n"
     ]
    }
   ],
   "source": [
    "# TRY GETTING A RESPONSE FROM THE DIFFERENT RESULT TYPES\n",
    "\n",
    "def wavelength_min1():\n",
    "    \"\"\"Crystal 1 (VIS/NIR) minimum wavelength in nm.\"\"\"\n",
    "    result = registerReadU32(COMport, RFdriver_devID, 0x90, -1)\n",
    "    wavelength = result[1]/1000 # convert pm to nm\n",
    "    print(f'Minimum wavelength for crystal 1: {int(wavelength)} nm.', RegisterStatusTypes(result))\n",
    "\n",
    "wavelength_min1()"
   ]
  },
  {
   "cell_type": "code",
   "execution_count": 5,
   "metadata": {},
   "outputs": [],
   "source": [
    "# select class\n",
    "\n",
    "def power_monitor(self):    # CHECK\n",
    "    \"\"\"Readout from optional optical power monitors. Result as a percent.\"\"\"\n",
    "    result1 = registerReadU16(self.COMport, self.SELECT_devID, 0x10, -1)\n",
    "    power1 = result1[1]/10\n",
    "\n",
    "    result2 = registerReadU16(self.COMport, self.SELECT_devID, 0x11, -1)\n",
    "    power2 = result2[1]/10\n",
    "\n",
    "    print(f'Power monitor 1 readout: {power1} %, power monitor 2 readout: {power2} %.')"
   ]
  },
  {
   "cell_type": "code",
   "execution_count": null,
   "metadata": {},
   "outputs": [],
   "source": [
    "def monitor_switch(self, crystal=None):  # CHECK\n",
    "    \"\"\"Select which power detector should be connected to the output connector. Optional input 1 or 2 to switch to the corresponding crystal.\"\"\"\n",
    "    if crystal==None:\n",
    "        result = registerReadU8(self.COMport, self.SELECT_devID, 0x35, -1)\n",
    "        result = result[1]\n",
    "        if result == 0:\n",
    "            print('Optical power monitor connected to crystal 1.')\n",
    "        elif result == 1:\n",
    "            print('Optical power monitor connected to crystal 2.')\n",
    "\n",
    "    elif crystal == 1:\n",
    "        result = registerWriteReadU8(self.COMport, self.SELECT_devID, 0x35, 0, -1)\n",
    "        print('Optical power monitor connected to crystal 1.')\n",
    "    elif crystal == 2:\n",
    "        result = registerWriteReadU8(self.COMport, self.SELECT_devID, 0x35, 1, -1)\n",
    "        print('Optical power monitor connected to crystal 2.')\n",
    "\n",
    "    else:\n",
    "        print('Invalid input. Choose 1 or 2.')"
   ]
  }
 ],
 "metadata": {
  "kernelspec": {
   "display_name": "base",
   "language": "python",
   "name": "python3"
  },
  "language_info": {
   "codemirror_mode": {
    "name": "ipython",
    "version": 3
   },
   "file_extension": ".py",
   "mimetype": "text/x-python",
   "name": "python",
   "nbconvert_exporter": "python",
   "pygments_lexer": "ipython3",
   "version": "3.12.4"
  }
 },
 "nbformat": 4,
 "nbformat_minor": 2
}
